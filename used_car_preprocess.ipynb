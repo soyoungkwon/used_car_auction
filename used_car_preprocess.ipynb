{
 "cells": [
  {
   "cell_type": "markdown",
   "metadata": {},
   "source": [
    "# car_inspections & auctions\n",
    "\n",
    "Aim: Predict car price & returned rate\n",
    "\n",
    "Original files (2): (FCG...Auctions.csv) & (FCG...Inspections.csv)<br>\n",
    "Auctions.csv is structured, but Inspections.csv is quite dirty\n",
    "\n",
    "<b>Preprocessing</b><br>\n",
    "(FCG..Inspections.csv) : json --> pandas<br>\n",
    "2 columns about the score of the used car, in json object<br>\n",
    "--> This is saved as pandas, then save it as inspection_report.csv, category_scores.csv\n",
    "\n",
    "<b>Merging files</b><br>\n",
    "inspection_full.csv (mainly structured FCG...inspections.csv)<br>\n",
    "Merge all csv files with join (car_id is overlapping for all csv file)\n"
   ]
  },
  {
   "cell_type": "markdown",
   "metadata": {},
   "source": [
    "# load data & libraries"
   ]
  },
  {
   "cell_type": "code",
   "execution_count": 1,
   "metadata": {},
   "outputs": [],
   "source": [
    "import os\n",
    "import pandas as pd\n",
    "import matplotlib.pyplot as plt\n",
    "import numpy as np\n",
    "import json"
   ]
  },
  {
   "cell_type": "code",
   "execution_count": 2,
   "metadata": {},
   "outputs": [],
   "source": [
    "# file name\n",
    "auction_fname = 'FCG Germany GmbH_Data Scientist_case study_Auctions.csv'\n",
    "inspection_fname = 'FCG Germany GmbH_Data Scientist_case study_Inspections.csv'"
   ]
  },
  {
   "cell_type": "code",
   "execution_count": 3,
   "metadata": {},
   "outputs": [],
   "source": [
    "auction_data = pd.read_csv(auction_fname)\n",
    "inspection_data = pd.read_csv(inspection_fname)"
   ]
  },
  {
   "cell_type": "markdown",
   "metadata": {},
   "source": [
    "## Feature engineering"
   ]
  },
  {
   "cell_type": "markdown",
   "metadata": {},
   "source": [
    "# Inspection extract\n",
    "\n",
    "inspection_data['category_scores'] (json) ==> category_scores (pandas)"
   ]
  },
  {
   "cell_type": "code",
   "execution_count": 4,
   "metadata": {},
   "outputs": [],
   "source": [
    "# Preassign inspect_allcar\n",
    "category_scores_pd = pd.DataFrame()"
   ]
  },
  {
   "cell_type": "code",
   "execution_count": 5,
   "metadata": {},
   "outputs": [],
   "source": [
    "# Extract the first car_id's inspection score\n",
    "# --> assign as standard name\n",
    "scores_car1 = json.loads(inspection_data['category_scores'][0])\n",
    "scores_pd = pd.DataFrame.from_dict(scores_car1)\n",
    "stand_name = scores_pd.id"
   ]
  },
  {
   "cell_type": "code",
   "execution_count": 6,
   "metadata": {},
   "outputs": [],
   "source": [
    "# Extract for all car\n",
    "# each car\n",
    "for car in range(len(inspection_data)):\n",
    "    scores_dict = json.loads(inspection_data['category_scores'][car])\n",
    "    scores_onecar = pd.DataFrame.from_dict(scores_dict)\n",
    "    \n",
    "    # each features of the car\n",
    "    for f in range(len(stand_name)):\n",
    "        # run only when inspection feature exists, some car has no inspection\n",
    "        if len(scores_onecar)>1: \n",
    "            if scores_onecar['id'][f] == stand_name[f]: # when feature name match with standard name\n",
    "                category_scores_pd.at[car, stand_name[f]] = scores_onecar.score[f]\n",
    "        else: # when inspection is missing assign NaN\n",
    "            category_scores_pd.at[car, stand_name[f]] = 'NaN'\n",
    "            "
   ]
  },
  {
   "cell_type": "markdown",
   "metadata": {},
   "source": [
    "Add car_id column\n",
    "(This is to later merge with other files: car_id has to match with other files)"
   ]
  },
  {
   "cell_type": "code",
   "execution_count": 7,
   "metadata": {},
   "outputs": [],
   "source": [
    "category_scores = category_scores_pd.copy()"
   ]
  },
  {
   "cell_type": "code",
   "execution_count": 8,
   "metadata": {},
   "outputs": [],
   "source": [
    "category_scores['car_id'] = inspection_data['car_id']"
   ]
  },
  {
   "cell_type": "code",
   "execution_count": 9,
   "metadata": {},
   "outputs": [],
   "source": [
    "cols = category_scores.columns.tolist()\n",
    "cols = cols[-1:] + cols[:-1]\n",
    "category_scores = category_scores[cols]"
   ]
  },
  {
   "cell_type": "markdown",
   "metadata": {},
   "source": [
    "Save inspect_cars"
   ]
  },
  {
   "cell_type": "code",
   "execution_count": 10,
   "metadata": {},
   "outputs": [],
   "source": [
    "category_scores.to_csv('category_scores.csv', encoding = 'utf-8', index=False)"
   ]
  },
  {
   "cell_type": "markdown",
   "metadata": {},
   "source": [
    "## Report extract"
   ]
  },
  {
   "cell_type": "code",
   "execution_count": 11,
   "metadata": {},
   "outputs": [],
   "source": [
    "# Preassign inspect_allcar\n",
    "report_allcar_pd = pd.DataFrame()"
   ]
  },
  {
   "cell_type": "code",
   "execution_count": 12,
   "metadata": {},
   "outputs": [],
   "source": [
    "# Extract the first car_id's inspection score\n",
    "# --> assign as standard name\n",
    "report_car1 = json.loads(inspection_data['inspection_report'][0])\n",
    "pd_car1 = pd.DataFrame(list(report_car1.items()))\n",
    "stand_report = pd_car1.loc[:,0]"
   ]
  },
  {
   "cell_type": "code",
   "execution_count": 14,
   "metadata": {},
   "outputs": [],
   "source": [
    "# Extract for all car\n",
    "# each car\n",
    "for car in range(len(inspection_data)):\n",
    "    report_onecar=json.loads(inspection_data['inspection_report'][car])\n",
    "    report_onecar_pd=pd.DataFrame.from_dict(report_onecar, orient = 'index')\n",
    "    \n",
    "    # each features of the car\n",
    "    for f in range(len(stand_report)):\n",
    "        if len(report_onecar_pd) >1:# run when there is a inspection feature\n",
    "            if len(report_onecar_pd.loc[:,0].keys()) > f:\n",
    "                if report_onecar_pd.loc[:,0].keys()[f] == stand_report[f]: # when feature name match\n",
    "                    report_allcar_pd.at[car, stand_report[f]] = report_onecar_pd.values[f][0]\n",
    "                else:\n",
    "                    report_allcar_pd.at[car, stand_report[f]] = 'NaN'  \n",
    "            else:\n",
    "                report_allcar_pd.at[car, stand_report[f]] = 'NaN'\n",
    "        else: # if feature part is empty\n",
    "            report_allcar_pd.at[car, stand_report[f]] = 'NaN'"
   ]
  },
  {
   "cell_type": "code",
   "execution_count": 15,
   "metadata": {
    "scrolled": true
   },
   "outputs": [
    {
     "data": {
      "text/plain": [
       "((21160, 190), (21160, 10))"
      ]
     },
     "execution_count": 15,
     "metadata": {},
     "output_type": "execute_result"
    }
   ],
   "source": [
    "report_allcar_pd.shape, inspection_data.shape"
   ]
  },
  {
   "cell_type": "code",
   "execution_count": 16,
   "metadata": {},
   "outputs": [],
   "source": [
    "report_cars = report_allcar_pd.copy()"
   ]
  },
  {
   "cell_type": "code",
   "execution_count": 17,
   "metadata": {},
   "outputs": [],
   "source": [
    "# add car_id\n",
    "report_cars['car_id'] = inspection_data['car_id']"
   ]
  },
  {
   "cell_type": "code",
   "execution_count": 18,
   "metadata": {},
   "outputs": [],
   "source": [
    "cols = report_cars.columns.tolist()\n",
    "cols = cols[-1:] + cols[:-1]\n",
    "report_cars = report_cars[cols]"
   ]
  },
  {
   "cell_type": "code",
   "execution_count": 21,
   "metadata": {},
   "outputs": [],
   "source": [
    "## save report_cars\n",
    "report_cars.to_csv('inspection_report.csv', encoding = 'utf-8', index=False)"
   ]
  },
  {
   "cell_type": "markdown",
   "metadata": {},
   "source": [
    "## Merge files unorganized inspection into clean inspect_full (pandas)"
   ]
  },
  {
   "cell_type": "code",
   "execution_count": 22,
   "metadata": {},
   "outputs": [],
   "source": [
    "inspect_jsons = pd.concat([category_scores, report_allcar_pd],axis=1)"
   ]
  },
  {
   "cell_type": "code",
   "execution_count": 31,
   "metadata": {},
   "outputs": [],
   "source": [
    "inspect_wo_json = inspection_data.drop(['category_scores', 'inspection_report'], axis=1)"
   ]
  },
  {
   "cell_type": "code",
   "execution_count": 33,
   "metadata": {},
   "outputs": [],
   "source": [
    "inspect_full = pd.concat([inspect_wo_json,category_scores_pd,report_allcar_pd],axis=1)"
   ]
  },
  {
   "cell_type": "code",
   "execution_count": 35,
   "metadata": {},
   "outputs": [],
   "source": [
    "## save report_cars\n",
    "inspect_full.to_csv('inspection_full.csv', encoding = 'utf-8', index=False)"
   ]
  },
  {
   "cell_type": "markdown",
   "metadata": {},
   "source": [
    "## Merge inspect + auction (join!!)"
   ]
  },
  {
   "cell_type": "code",
   "execution_count": 43,
   "metadata": {},
   "outputs": [],
   "source": [
    "inspect_auction_all = pd.merge(auction_data, inspect_full, on='car_id', how='outer')"
   ]
  },
  {
   "cell_type": "code",
   "execution_count": 47,
   "metadata": {},
   "outputs": [],
   "source": [
    "## save all\n",
    "inspect_auction_all.to_csv('car_full.csv', encoding = 'utf-8', index=False)\n"
   ]
  },
  {
   "cell_type": "code",
   "execution_count": null,
   "metadata": {},
   "outputs": [],
   "source": []
  }
 ],
 "metadata": {
  "kernelspec": {
   "display_name": "Python 3",
   "language": "python",
   "name": "python3"
  },
  "language_info": {
   "codemirror_mode": {
    "name": "ipython",
    "version": 3
   },
   "file_extension": ".py",
   "mimetype": "text/x-python",
   "name": "python",
   "nbconvert_exporter": "python",
   "pygments_lexer": "ipython3",
   "version": "3.7.1"
  }
 },
 "nbformat": 4,
 "nbformat_minor": 2
}
