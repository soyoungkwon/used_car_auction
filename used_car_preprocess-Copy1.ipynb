{
 "cells": [
  {
   "cell_type": "markdown",
   "metadata": {},
   "source": [
    "# car_inspections & auctions\n",
    "\n",
    "Aim: Predict car price & returned rate\n",
    "\n",
    "Original files (2): (FCG...Auctions.csv) & (FCG...Inspections.csv)\n",
    "\n",
    "[Preprocessing]\n",
    "(FCG..Inspections.csv) : 2 columns about the score of the used car, in json object\n",
    "--> This is saved as pandas, then save it as report_cars.csv, inspect_only.csv\n",
    "\n",
    "[Merging files]\n",
    "Merge all csv files with join (car_id is overlapping for all csv file)\n"
   ]
  },
  {
   "cell_type": "markdown",
   "metadata": {},
   "source": [
    "# load data & libraries"
   ]
  },
  {
   "cell_type": "code",
   "execution_count": 1,
   "metadata": {},
   "outputs": [],
   "source": [
    "import os\n",
    "import pandas as pd\n",
    "import matplotlib.pyplot as plt\n",
    "# from sklearn.linear_model import LogisticRegression\n",
    "import numpy as np\n",
    "# from sklearn.linear_model import Lasso\n",
    "# from sklearn.model_selection import train_test_split\n",
    "import json"
   ]
  },
  {
   "cell_type": "code",
   "execution_count": 2,
   "metadata": {},
   "outputs": [],
   "source": [
    "# file name\n",
    "auction_fname = 'FCG Germany GmbH_Data Scientist_case study_Auctions.csv'\n",
    "inspection_fname = 'FCG Germany GmbH_Data Scientist_case study_Inspections.csv'"
   ]
  },
  {
   "cell_type": "code",
   "execution_count": 3,
   "metadata": {},
   "outputs": [],
   "source": [
    "auction_data = pd.read_csv(auction_fname)\n",
    "inspection_data = pd.read_csv(inspection_fname)"
   ]
  },
  {
   "cell_type": "markdown",
   "metadata": {},
   "source": [
    "## Feature engineering"
   ]
  },
  {
   "cell_type": "markdown",
   "metadata": {},
   "source": [
    "# Inspection extract\n",
    "\n",
    "inspection_data['category_scores'] (json) ==> inspect_cars (pandas)"
   ]
  },
  {
   "cell_type": "code",
   "execution_count": 4,
   "metadata": {},
   "outputs": [],
   "source": [
    "# Preassign inspect_allcar\n",
    "inspect_allcar_pd = pd.DataFrame()"
   ]
  },
  {
   "cell_type": "code",
   "execution_count": 84,
   "metadata": {},
   "outputs": [],
   "source": [
    "# Extract the first car_id's inspection score\n",
    "# --> assign as standard name\n",
    "inspect_car1 = json.loads(inspection_data['category_scores'][0])\n",
    "pd_car1 = pd.DataFrame.from_dict(inspect_car1)\n",
    "stand_inspect = pd_car1.id"
   ]
  },
  {
   "cell_type": "code",
   "execution_count": 85,
   "metadata": {},
   "outputs": [],
   "source": [
    "# Extract for all car\n",
    "# each car\n",
    "for i in range(len(inspection_data)):\n",
    "    inspect_onecar=json.loads(inspection_data['category_scores'][i])\n",
    "    inspect_onecar_pd=pd.DataFrame.from_dict(inspect_onecar)\n",
    "    \n",
    "    # each properties of the car\n",
    "    for s in range(len(stand_inspect)):\n",
    "        # run only when inspection feature exists, some car has no inspection\n",
    "        if len(inspect_onecar_pd)>1: \n",
    "            if inspect_onecar_pd['id'][s] == stand_inspect[s]: # when feature name match with standard name\n",
    "                inspect_allcar_pd.at[i, stand_inspect[s]] = inspect_onecar_pd.score[s]\n",
    "        else: # when inspection is missing assign NaN\n",
    "            inspect_allcar_pd.at[i, stand_inspect[s]] = 'NaN'"
   ]
  },
  {
   "cell_type": "markdown",
   "metadata": {},
   "source": [
    "Add car_id column\n",
    "(This is to later merge with other files: car_id has to match with other files)"
   ]
  },
  {
   "cell_type": "code",
   "execution_count": 74,
   "metadata": {},
   "outputs": [],
   "source": [
    "inspect_cars = inspect_allcar_pd.copy()"
   ]
  },
  {
   "cell_type": "code",
   "execution_count": 82,
   "metadata": {},
   "outputs": [],
   "source": [
    "inspect_cars['car_id'] = inspection_data['car_id']"
   ]
  },
  {
   "cell_type": "code",
   "execution_count": 76,
   "metadata": {},
   "outputs": [],
   "source": [
    "cols = inspect_cars.columns.tolist()\n",
    "cols = cols[-1:] + cols[:-1]\n",
    "inspect_cars = inspect_cars[cols]"
   ]
  },
  {
   "cell_type": "markdown",
   "metadata": {},
   "source": [
    "Save inspect_cars"
   ]
  },
  {
   "cell_type": "code",
   "execution_count": 87,
   "metadata": {},
   "outputs": [],
   "source": [
    "inspect_cars.to_csv('inspect_cars.csv', encoding = 'utf-8', index=False)"
   ]
  },
  {
   "cell_type": "markdown",
   "metadata": {},
   "source": [
    "## Report extract"
   ]
  },
  {
   "cell_type": "code",
   "execution_count": 55,
   "metadata": {},
   "outputs": [],
   "source": [
    "# Preassign inspect_allcar\n",
    "report_allcar_pd = pd.DataFrame()"
   ]
  },
  {
   "cell_type": "code",
   "execution_count": 56,
   "metadata": {},
   "outputs": [],
   "source": [
    "# Extract the first car_id's inspection score\n",
    "# --> assign as standard name\n",
    "report_car1 = json.loads(inspection_data['inspection_report'][0])\n",
    "pd_car1 = pd.DataFrame(list(report_car1.items()))\n",
    "stand_report = pd_car1.loc[:,0]"
   ]
  },
  {
   "cell_type": "code",
   "execution_count": 62,
   "metadata": {},
   "outputs": [],
   "source": [
    "# Extract for all car\n",
    "# each car\n",
    "for i in range(len(inspection_data)):\n",
    "    report_onecar=json.loads(inspection_data['inspection_report'][i])\n",
    "    report_onecar_pd=pd.DataFrame.from_dict(report_onecar, orient = 'index')\n",
    "    \n",
    "    # each properties of the car\n",
    "    for s in range(len(stand_report)):\n",
    "        if len(report_onecar_pd) >1:#== len(stand_report): # run when there is a inspection feature\n",
    "            if len(report_onecar_pd.loc[:,0].keys()) > s:\n",
    "                if report_onecar_pd.loc[:,0].keys()[s] == stand_report[s]: # when feature name match\n",
    "                    report_allcar_pd.at[i, stand_report[s]] = report_onecar_pd.values[s][0]\n",
    "                else:\n",
    "                    report_allcar_pd.at[i, stand_report[s]] = 'NaN'  \n",
    "            else:\n",
    "                report_allcar_pd.at[i, stand_report[s]] = 'NaN'\n",
    "        else: # if feature part is empty\n",
    "            report_allcar_pd.at[i, stand_report[s]] = 'NaN'"
   ]
  },
  {
   "cell_type": "code",
   "execution_count": 63,
   "metadata": {
    "scrolled": true
   },
   "outputs": [
    {
     "data": {
      "text/plain": [
       "((21160, 190), (21160, 10))"
      ]
     },
     "execution_count": 63,
     "metadata": {},
     "output_type": "execute_result"
    }
   ],
   "source": [
    "report_allcar_pd.shape, inspection_data.shape"
   ]
  },
  {
   "cell_type": "code",
   "execution_count": 66,
   "metadata": {},
   "outputs": [],
   "source": [
    "report_cars = report_allcar_pd.copy()"
   ]
  },
  {
   "cell_type": "code",
   "execution_count": 68,
   "metadata": {},
   "outputs": [],
   "source": [
    "# add car_id\n",
    "report_cars['car_id'] = inspection_data['car_id']"
   ]
  },
  {
   "cell_type": "code",
   "execution_count": 71,
   "metadata": {},
   "outputs": [],
   "source": [
    "cols = report_cars.columns.tolist()\n",
    "cols = cols[-1:] + cols[:-1]\n",
    "report_cars = report_cars[cols]"
   ]
  },
  {
   "cell_type": "code",
   "execution_count": 73,
   "metadata": {},
   "outputs": [],
   "source": [
    "## save report_cars\n",
    "report_cars.to_csv('report_cars.csv', encoding = 'utf-8', index=False)"
   ]
  },
  {
   "cell_type": "markdown",
   "metadata": {},
   "source": [
    "## Trying to merge two files\n",
    "not working yet"
   ]
  },
  {
   "cell_type": "code",
   "execution_count": 4,
   "metadata": {},
   "outputs": [],
   "source": [
    "# Merge the two dataframes, using _ID column as key\n",
    "df3 = pd.merge(auction_data, inspection_data, on = 'car_id')\n",
    "# df3.set_index('car_id', inplace = True)"
   ]
  },
  {
   "cell_type": "code",
   "execution_count": 5,
   "metadata": {},
   "outputs": [
    {
     "data": {
      "text/plain": [
       "((24043, 26), (24053, 17), (21160, 10))"
      ]
     },
     "execution_count": 5,
     "metadata": {},
     "output_type": "execute_result"
    }
   ],
   "source": [
    "df3.shape, auction_data.shape, inspection_data.shape"
   ]
  },
  {
   "cell_type": "markdown",
   "metadata": {},
   "source": [
    "## Extract necessary features & make it X, Y"
   ]
  },
  {
   "cell_type": "code",
   "execution_count": 14,
   "metadata": {},
   "outputs": [],
   "source": [
    "XY_names =[\n",
    "# 'auction_created_date', 'auction_start_date','auction_original_end_date','auction_end_date',\\\n",
    "'buy_now_enabled','auction_start_price', 'winning_bid_price',\\\n",
    "'auction_buy_now_price','won_with_buy_now','number_of_extensions',\\\n",
    "'has_winner', 'number_of_bids', 'number_of_bidders','returned']\n",
    "Y_names = ['returned']\n",
    "# Y = auction_data['returned']"
   ]
  },
  {
   "cell_type": "code",
   "execution_count": 16,
   "metadata": {},
   "outputs": [],
   "source": [
    "XY = pd.DataFrame(df3, columns=XY_names)"
   ]
  },
  {
   "cell_type": "markdown",
   "metadata": {},
   "source": [
    "## Clean Data"
   ]
  },
  {
   "cell_type": "code",
   "execution_count": null,
   "metadata": {},
   "outputs": [],
   "source": [
    "# drop nan & duplicate\n",
    "XY_dropna = XY.dropna()\n",
    "XY_dropduplicate = XY_dropna.drop_duplicates()"
   ]
  },
  {
   "cell_type": "code",
   "execution_count": null,
   "metadata": {},
   "outputs": [],
   "source": [
    "DF = XY_dropduplicate.reset_index()"
   ]
  },
  {
   "cell_type": "code",
   "execution_count": null,
   "metadata": {},
   "outputs": [],
   "source": [
    "Xc = DF.iloc[:,0:-1]\n",
    "Yc = DF.iloc[:,-1]"
   ]
  },
  {
   "cell_type": "code",
   "execution_count": null,
   "metadata": {},
   "outputs": [],
   "source": []
  },
  {
   "cell_type": "markdown",
   "metadata": {},
   "source": [
    "## Split train & test"
   ]
  },
  {
   "cell_type": "code",
   "execution_count": null,
   "metadata": {},
   "outputs": [],
   "source": [
    "X_train, X_test, y_train, y_test = train_test_split(Xc, Yc, test_size=0.2)"
   ]
  },
  {
   "cell_type": "code",
   "execution_count": null,
   "metadata": {},
   "outputs": [],
   "source": [
    "DF_allcorr = DF.corr()"
   ]
  },
  {
   "cell_type": "code",
   "execution_count": null,
   "metadata": {},
   "outputs": [],
   "source": [
    "corr_result = DF_allcorr['returned'].sort_values(ascending=False)\n"
   ]
  },
  {
   "cell_type": "code",
   "execution_count": null,
   "metadata": {},
   "outputs": [],
   "source": [
    "plt.figure()\n",
    "corr_result[1:].plot(kind='bar')\n"
   ]
  },
  {
   "cell_type": "markdown",
   "metadata": {},
   "source": [
    "## Machine learning training & implementation"
   ]
  },
  {
   "cell_type": "code",
   "execution_count": null,
   "metadata": {},
   "outputs": [],
   "source": [
    "lasso = Lasso(alpha=0.01)#.fit()#Xc,Yc)"
   ]
  },
  {
   "cell_type": "code",
   "execution_count": null,
   "metadata": {},
   "outputs": [],
   "source": [
    "lasso.fit(X_train,y_train)"
   ]
  },
  {
   "cell_type": "code",
   "execution_count": null,
   "metadata": {},
   "outputs": [],
   "source": [
    "y_pred = lasso.predict(Xc)"
   ]
  },
  {
   "cell_type": "code",
   "execution_count": null,
   "metadata": {},
   "outputs": [],
   "source": [
    "plt.plot(y_pred, '.')\n",
    "plt.plot(Yc, '.')\n",
    "plt.show()"
   ]
  },
  {
   "cell_type": "code",
   "execution_count": null,
   "metadata": {},
   "outputs": [],
   "source": [
    "mse = np.mean((y_pred - Yc)**2)\n",
    "mse\n"
   ]
  },
  {
   "cell_type": "code",
   "execution_count": null,
   "metadata": {},
   "outputs": [],
   "source": [
    "log_reg = LogisticRegression()\n",
    "log_reg.fit(X_train, y_train)\n"
   ]
  },
  {
   "cell_type": "code",
   "execution_count": null,
   "metadata": {},
   "outputs": [],
   "source": [
    "prediction = log_reg.predict(X_test)"
   ]
  },
  {
   "cell_type": "code",
   "execution_count": null,
   "metadata": {},
   "outputs": [],
   "source": [
    "from sklearn.metrics import classification_report"
   ]
  },
  {
   "cell_type": "code",
   "execution_count": null,
   "metadata": {},
   "outputs": [],
   "source": [
    "classification_report(y_test, prediction)"
   ]
  },
  {
   "cell_type": "markdown",
   "metadata": {},
   "source": [
    "## Basic Correlation"
   ]
  },
  {
   "cell_type": "code",
   "execution_count": null,
   "metadata": {},
   "outputs": [],
   "source": [
    "DF.loc[:,'returned'].value_counts()"
   ]
  },
  {
   "cell_type": "code",
   "execution_count": null,
   "metadata": {},
   "outputs": [],
   "source": [
    "plt.subplot(1,3,1)\n",
    "plt.hist(DF.loc[:,'auction_start_price'])\n",
    "plt.subplot(1,3,2)\n",
    "plt.hist(DF.loc[:,'winning_bid_price'])\n",
    "plt.subplot(1,3,3)\n",
    "plt.hist(DF.loc[:,'auction_buy_now_price'])\n",
    "plt.show()"
   ]
  },
  {
   "cell_type": "code",
   "execution_count": null,
   "metadata": {},
   "outputs": [],
   "source": [
    "# Car Price Prediction"
   ]
  },
  {
   "cell_type": "code",
   "execution_count": null,
   "metadata": {},
   "outputs": [],
   "source": [
    "Car_Price = DF['auction_buy_now_price']"
   ]
  },
  {
   "cell_type": "code",
   "execution_count": null,
   "metadata": {},
   "outputs": [],
   "source": []
  },
  {
   "cell_type": "code",
   "execution_count": null,
   "metadata": {},
   "outputs": [],
   "source": []
  },
  {
   "cell_type": "code",
   "execution_count": null,
   "metadata": {},
   "outputs": [],
   "source": [
    "import csv\n",
    "from collections import OrderedDict"
   ]
  },
  {
   "cell_type": "code",
   "execution_count": null,
   "metadata": {},
   "outputs": [],
   "source": [
    "with open(auction_fname, 'r') as f:\n",
    "    r = f.read()\n",
    "    dict2 = {row[0]: row[1:] for row in r}"
   ]
  }
 ],
 "metadata": {
  "kernelspec": {
   "display_name": "Python 3",
   "language": "python",
   "name": "python3"
  },
  "language_info": {
   "codemirror_mode": {
    "name": "ipython",
    "version": 3
   },
   "file_extension": ".py",
   "mimetype": "text/x-python",
   "name": "python",
   "nbconvert_exporter": "python",
   "pygments_lexer": "ipython3",
   "version": "3.7.1"
  }
 },
 "nbformat": 4,
 "nbformat_minor": 2
}
